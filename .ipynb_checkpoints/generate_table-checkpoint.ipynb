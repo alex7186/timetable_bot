{
 "cells": [
  {
   "cell_type": "code",
   "execution_count": 230,
   "metadata": {},
   "outputs": [],
   "source": [
    "import pandas as pd\n",
    "import numpy"
   ]
  },
  {
   "cell_type": "code",
   "execution_count": 256,
   "metadata": {},
   "outputs": [],
   "source": [
    "def generate_pair_time_table():\n",
    "    # generating time table\n",
    "    \n",
    "    pair_time_table = df.iloc[2:14:2, 1:4]\n",
    "    pair_time_table = pair_time_table.reset_index().drop('index', axis=1)\n",
    "\n",
    "\n",
    "    pair_time_table = pd.concat(\n",
    "        (pair_time_table, pair_time_table), axis=0).sort_index().reset_index().drop('index', axis=1)\n",
    "\n",
    "    pair_time_table = pd.concat((pd.Series(('Нечетная', 'Четная')*6), pair_time_table), axis=1)\n",
    "    pair_time_table.columns = ('Неделя', 'Номер пары', 'Начало пары', 'Конец пары')\n",
    "\n",
    "    return pair_time_table\n",
    "\n",
    "def generate_full_table(input_table, target_group):\n",
    "    cols = list(input_table.columns)\n",
    "\n",
    "    df2 = input_table.iloc[2:, cols.index(target_group): cols.index(target_group) + 4]\n",
    "\n",
    "    df2 = df2.reset_index().drop('index', axis=1)\n",
    "    df2.columns = ('Предмет', 'Вид занятий', 'Преподаватель', 'Аудитория')\n",
    "\n",
    "\n",
    "    days_of_the_week = ('Понедельник', 'Вторник', 'Среда', 'Четверг', 'Пятница', 'Суббота')\n",
    "    days_of_the_week =  pd.Series(np.array([[el]*12 for el in days_of_the_week]).flatten())\n",
    "    days_of_the_week.name = 'День недели'\n",
    "    \n",
    "    pair_time_table = generate_pair_time_table()\n",
    "\n",
    "    df2 = pd.concat(\n",
    "        (\n",
    "            days_of_the_week,\n",
    "            pd.concat([pair_time_table] * (df2.shape[0] // pair_time_table.shape[0]), axis=0).reset_index().drop('index', axis=1),\n",
    "            df2\n",
    "        ),\n",
    "        axis=1,\n",
    "\n",
    "    )\n",
    "\n",
    "    df2.fillna('', inplace=True)\n",
    "\n",
    "    return df2\n",
    "\n",
    "def make_dict_from_odd_even_table(df):\n",
    "    res_dict = {}\n",
    "\n",
    "    commp = dict(zip(('Понедельник', 'Вторник', 'Среда', 'Четверг', 'Пятница', 'Суббота'), list(np.arange(1, 7))))\n",
    "    for day_of_the_week, table_daily in df.groupby(('День недели')):\n",
    "\n",
    "        if day_of_the_week not in list(res_dict.keys()):\n",
    "            res_dict.update({int(commp[day_of_the_week]) : {}})\n",
    "\n",
    "        for pair_number, table_pairly in table_daily.groupby(('Номер пары')):\n",
    "            if pair_number not in list(res_dict[commp[day_of_the_week]].keys()):\n",
    "                res_dict[commp[day_of_the_week]].update({int(pair_number) : []})\n",
    "\n",
    "            if table_pairly.iloc[0]['Предмет'] != '':\n",
    "                for el in list(table_pairly[['Предмет', 'Вид занятий', 'Преподаватель', 'Аудитория']].iloc[0].values):\n",
    "                    res_dict[commp[day_of_the_week]][int(pair_number)].append(el)\n",
    "\n",
    "    return res_dict"
   ]
  },
  {
   "cell_type": "code",
   "execution_count": null,
   "metadata": {},
   "outputs": [],
   "source": []
  },
  {
   "cell_type": "code",
   "execution_count": null,
   "metadata": {},
   "outputs": [],
   "source": []
  },
  {
   "cell_type": "code",
   "execution_count": null,
   "metadata": {},
   "outputs": [],
   "source": []
  },
  {
   "cell_type": "code",
   "execution_count": null,
   "metadata": {},
   "outputs": [],
   "source": []
  },
  {
   "cell_type": "code",
   "execution_count": 257,
   "metadata": {},
   "outputs": [],
   "source": [
    "input_table = pd.read_excel('ITKhT_bak_3k_21-22_vesna.xlsx')\n",
    "input_table.columns = input_table.iloc[0]\n",
    "input_table = input_table.iloc[:74]\n",
    "\n",
    "target_group = 'ХХБО-04-19'\n",
    "\n",
    "\n",
    "full_table = generate_full_table(input_table, target_group)\n",
    "\n",
    "res_dict = {\n",
    "    'нечетная' : make_dict_from_odd_even_table(\n",
    "        full_table[full_table['Неделя'] == 'Нечетная']),\n",
    "    'четная' : make_dict_from_odd_even_table(\n",
    "        full_table[full_table['Неделя'] == 'Четная'])\n",
    "}"
   ]
  },
  {
   "cell_type": "code",
   "execution_count": null,
   "metadata": {},
   "outputs": [],
   "source": []
  },
  {
   "cell_type": "code",
   "execution_count": null,
   "metadata": {},
   "outputs": [],
   "source": []
  },
  {
   "cell_type": "code",
   "execution_count": null,
   "metadata": {},
   "outputs": [],
   "source": []
  },
  {
   "cell_type": "code",
   "execution_count": 247,
   "metadata": {},
   "outputs": [],
   "source": [
    "import json"
   ]
  },
  {
   "cell_type": "code",
   "execution_count": 259,
   "metadata": {},
   "outputs": [],
   "source": [
    "with open('table.json', 'w') as f:\n",
    "    json.dump(\n",
    "        res_dict, \n",
    "        f,\n",
    "        ensure_ascii=False,\n",
    "        indent=4,\n",
    "        separators=(',', ':')    \n",
    "    )"
   ]
  },
  {
   "cell_type": "code",
   "execution_count": null,
   "metadata": {},
   "outputs": [],
   "source": []
  }
 ],
 "metadata": {
  "kernelspec": {
   "display_name": "Python 3",
   "language": "python",
   "name": "python3"
  },
  "language_info": {
   "codemirror_mode": {
    "name": "ipython",
    "version": 3
   },
   "file_extension": ".py",
   "mimetype": "text/x-python",
   "name": "python",
   "nbconvert_exporter": "python",
   "pygments_lexer": "ipython3",
   "version": "3.8.3"
  }
 },
 "nbformat": 4,
 "nbformat_minor": 4
}
